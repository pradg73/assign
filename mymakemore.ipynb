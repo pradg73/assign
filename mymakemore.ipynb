{
  "nbformat": 4,
  "nbformat_minor": 0,
  "metadata": {
    "colab": {
      "provenance": [],
      "authorship_tag": "ABX9TyP5mKI94RQxdpm/SZDZybsp",
      "include_colab_link": true
    },
    "kernelspec": {
      "name": "python3",
      "display_name": "Python 3"
    },
    "language_info": {
      "name": "python"
    }
  },
  "cells": [
    {
      "cell_type": "markdown",
      "metadata": {
        "id": "view-in-github",
        "colab_type": "text"
      },
      "source": [
        "<a href=\"https://colab.research.google.com/github/pradg73/assign/blob/master/mymakemore.ipynb\" target=\"_parent\"><img src=\"https://colab.research.google.com/assets/colab-badge.svg\" alt=\"Open In Colab\"/></a>"
      ]
    },
    {
      "cell_type": "code",
      "execution_count": null,
      "metadata": {
        "id": "xofzWO2Ugmaa"
      },
      "outputs": [],
      "source": [
        "import torch\n",
        "import torch.nn.functional as F\n",
        "import matplotlib.pyplot as plt # for making figures\n",
        "%matplotlib inline"
      ]
    },
    {
      "cell_type": "code",
      "source": [
        "import urllib\n",
        "#words = urllib.request.urlopen('https://raw.githubusercontent.com/karpathy/nn-zero-to-hero/815b3dda3fa630e8a7fbce063c6ec1807f9a6ce2/lectures/makemore/names.txt').read().decode('utf8').splitlines()\n",
        "#words[:8]\n",
        "url='https://gist.githubusercontent.com/mbejda/7f86ca901fe41bc14a63/raw/38adb475c14a3f44df9999c1541f3a72f472b30d/Indian-Male-Names.csv'\n",
        "words = urllib.request.urlopen(url).read().decode('utf8').splitlines()\n",
        "words = [l.split(',')[0].split(' ')[0] for l in words]\n",
        "words = words[1:]\n",
        "words[:8]"
      ],
      "metadata": {
        "colab": {
          "base_uri": "https://localhost:8080/"
        },
        "id": "m5dfc3Mjg4tg",
        "outputId": "844daed2-b210-4b3f-c122-f0a45e126690"
      },
      "execution_count": null,
      "outputs": [
        {
          "output_type": "execute_result",
          "data": {
            "text/plain": [
              "['barjraj', 'ramdin', 'sharat', 'birender', 'amit', 'kushal', 'kasid', 'shiv']"
            ]
          },
          "metadata": {},
          "execution_count": 96
        }
      ]
    },
    {
      "cell_type": "code",
      "source": [
        "atoi = {'*': 0}\n",
        "itoa = {0 : '*'}\n",
        "i = 1\n",
        "for c in sorted(set(''.join([w for w in words]))):\n",
        "  atoi[c] = i\n",
        "  itoa[i] = c\n",
        "  i = i+1\n",
        "atoi"
      ],
      "metadata": {
        "colab": {
          "base_uri": "https://localhost:8080/"
        },
        "id": "p33G3Cglg_af",
        "outputId": "9f5d57af-fb65-4d9c-c7f9-2029c321acdc"
      },
      "execution_count": null,
      "outputs": [
        {
          "output_type": "execute_result",
          "data": {
            "text/plain": [
              "{'*': 0,\n",
              " '\"': 1,\n",
              " '&': 2,\n",
              " '(': 3,\n",
              " ')': 4,\n",
              " '-': 5,\n",
              " '.': 6,\n",
              " '/': 7,\n",
              " '0': 8,\n",
              " '1': 9,\n",
              " '5': 10,\n",
              " '7': 11,\n",
              " '8': 12,\n",
              " '9': 13,\n",
              " '@': 14,\n",
              " '[': 15,\n",
              " '`': 16,\n",
              " 'a': 17,\n",
              " 'b': 18,\n",
              " 'c': 19,\n",
              " 'd': 20,\n",
              " 'e': 21,\n",
              " 'f': 22,\n",
              " 'g': 23,\n",
              " 'h': 24,\n",
              " 'i': 25,\n",
              " 'j': 26,\n",
              " 'k': 27,\n",
              " 'l': 28,\n",
              " 'm': 29,\n",
              " 'n': 30,\n",
              " 'o': 31,\n",
              " 'p': 32,\n",
              " 'q': 33,\n",
              " 'r': 34,\n",
              " 's': 35,\n",
              " 't': 36,\n",
              " 'u': 37,\n",
              " 'v': 38,\n",
              " 'w': 39,\n",
              " 'x': 40,\n",
              " 'y': 41,\n",
              " 'z': 42,\n",
              " 'ं': 43,\n",
              " 'अ': 44,\n",
              " 'आ': 45,\n",
              " 'उ': 46,\n",
              " 'क': 47,\n",
              " 'ख': 48,\n",
              " 'ग': 49,\n",
              " 'च': 50,\n",
              " 'छ': 51,\n",
              " 'ज': 52,\n",
              " 'ण': 53,\n",
              " 'त': 54,\n",
              " 'द': 55,\n",
              " 'ध': 56,\n",
              " 'न': 57,\n",
              " 'प': 58,\n",
              " 'फ': 59,\n",
              " 'म': 60,\n",
              " 'य': 61,\n",
              " 'र': 62,\n",
              " 'ल': 63,\n",
              " 'व': 64,\n",
              " 'श': 65,\n",
              " 'ष': 66,\n",
              " 'स': 67,\n",
              " 'ह': 68,\n",
              " '़': 69,\n",
              " 'ा': 70,\n",
              " 'ि': 71,\n",
              " 'ी': 72,\n",
              " 'ु': 73,\n",
              " 'ू': 74,\n",
              " 'े': 75,\n",
              " 'ो': 76,\n",
              " '्': 77,\n",
              " '\\u200d': 78}"
            ]
          },
          "metadata": {},
          "execution_count": 103
        }
      ]
    },
    {
      "cell_type": "code",
      "source": [
        "X = []\n",
        "Y = []\n",
        "\n",
        "for w in words:\n",
        "  prefix =[0]*3\n",
        "  for c in w + '*':\n",
        "    X.append(prefix);\n",
        "    Y.append(atoi[c])\n",
        "    prefix = prefix[1:] + [atoi[c]]\n",
        "X = torch.tensor(X)\n",
        "Y = torch.tensor(Y)\n",
        "\n",
        "#for v in zip(X,Y):\n",
        "#  print(v)"
      ],
      "metadata": {
        "id": "Ikc8EeLyiyiX"
      },
      "execution_count": null,
      "outputs": []
    },
    {
      "cell_type": "code",
      "source": [
        "X.shape"
      ],
      "metadata": {
        "colab": {
          "base_uri": "https://localhost:8080/"
        },
        "id": "THYhV5Cp5STF",
        "outputId": "1a22c5b0-52ac-43bf-b72b-ccb6b1c091b0"
      },
      "execution_count": null,
      "outputs": [
        {
          "output_type": "execute_result",
          "data": {
            "text/plain": [
              "torch.Size([101075, 3])"
            ]
          },
          "metadata": {},
          "execution_count": 105
        }
      ]
    },
    {
      "cell_type": "code",
      "source": [
        "C = torch.rand(len(atoi),10)\n",
        "vocabsize = len(atoi)\n",
        "W1 = torch.rand(30,100)\n",
        "b1 = torch.rand(100)\n",
        "W2 = torch.rand(100,vocabsize)\n",
        "b2 = torch.rand(vocabsize)\n",
        "params = [C,W1,b1,W2,b2]\n",
        "for p in params:\n",
        "  p.requires_grad = True\n",
        "stepi = []\n",
        "lossi = []\n",
        "for i in range(200000):\n",
        "  xi = torch.randint(low=0, high=X.shape[0], size=(64,))\n",
        "  embed = C[X[xi]]\n",
        "  h = torch.tanh(embed.view(-1,30)@W1 + b1)\n",
        "  logits = h @ W2 + b2\n",
        "  loss = F.cross_entropy(logits, Y[xi])\n",
        "  stepi.append(i)\n",
        "  lossi.append(loss.log10().item())\n",
        "  for p in params:\n",
        "    p.grad = None\n",
        "  loss.backward()\n",
        "  \n",
        "  # update\n",
        "  #lr = lrs[i]\n",
        "  lr = 0.1 if i < 100000 else 0.01\n",
        "  for p in params:\n",
        "    p.data += -lr * p.grad\n",
        "plt.plot(stepi,lossi)"
      ],
      "metadata": {
        "colab": {
          "base_uri": "https://localhost:8080/",
          "height": 447
        },
        "id": "NaXvQlQOlDaM",
        "outputId": "93c4052a-935a-46ee-fcd8-28fe7102dc4e"
      },
      "execution_count": null,
      "outputs": [
        {
          "output_type": "execute_result",
          "data": {
            "text/plain": [
              "[<matplotlib.lines.Line2D at 0x7f5640fbcfd0>]"
            ]
          },
          "metadata": {},
          "execution_count": 124
        },
        {
          "output_type": "display_data",
          "data": {
            "text/plain": [
              "<Figure size 640x480 with 1 Axes>"
            ],
            "image/png": "[encoded data removed]"
          },
          "metadata": {}
        }
      ]
    },
    {
      "cell_type": "code",
      "source": [
        "for _ in range(20):\n",
        "    out = []\n",
        "    context = [0] * 3 # initialize with all ...\n",
        "    while True:\n",
        "      emb = C[torch.tensor([context])] # (1,block_size,d)\n",
        "      h = torch.tanh(emb.view(1, -1) @ W1 + b1)\n",
        "      logits = h @ W2 + b2\n",
        "      probs = F.softmax(logits, dim=1)\n",
        "      ix = torch.multinomial(probs, num_samples=1).item()\n",
        "      #ix = torch.argmax(probs).item()\n",
        "      context = context[1:] + [ix]\n",
        "      out.append(ix)\n",
        "      if ix == 0:\n",
        "        break\n",
        "    print(''.join(itoa[i] for i in out))\n"
      ],
      "metadata": {
        "colab": {
          "base_uri": "https://localhost:8080/"
        },
        "id": "i-Ju4k2623j3",
        "outputId": "835d40f1-7530-4d69-a86d-ee0342e6875e"
      },
      "execution_count": null,
      "outputs": [
        {
          "output_type": "stream",
          "name": "stdout",
          "text": [
            "ash*\n",
            "shaveer*\n",
            "tarbirender*\n",
            "lopuhender*\n",
            "kev*\n",
            "ansinay*\n",
            "kishwrash*\n",
            "minam*\n",
            "ashmanil*\n",
            "md*\n",
            "hoopil*\n",
            "ajayan*\n",
            "haribh*\n",
            "gur*\n",
            "jatish*\n",
            "susanjeeej*\n",
            "naveeraja*\n",
            "so*\n",
            "ashish*\n",
            "sunil*\n"
          ]
        }
      ]
    }
  ]
}